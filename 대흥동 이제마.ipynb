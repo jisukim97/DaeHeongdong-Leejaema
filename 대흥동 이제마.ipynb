{
 "cells": [
  {
   "cell_type": "markdown",
   "metadata": {},
   "source": [
    "# 당신의 사상의학 체질은?"
   ]
  },
  {
   "cell_type": "markdown",
   "metadata": {},
   "source": [
    "## 1. 데이터 전처리\n",
    "## 2. Features에 점수 부여하기\n",
    "## 3. 모델링\n",
    "## 4. 결론"
   ]
  },
  {
   "cell_type": "markdown",
   "metadata": {},
   "source": []
  },
  {
   "cell_type": "markdown",
   "metadata": {},
   "source": []
  },
  {
   "cell_type": "markdown",
   "metadata": {},
   "source": [
    "## 1. 데이터 전처리"
   ]
  },
  {
   "cell_type": "code",
   "execution_count": 315,
   "metadata": {},
   "outputs": [],
   "source": [
    "import pandas as pd\n",
    "import numpy as np\n",
    "import matplotlib.pyplot as plt\n",
    "import seaborn as sns ; sns.set()"
   ]
  },
  {
   "cell_type": "code",
   "execution_count": 340,
   "metadata": {},
   "outputs": [],
   "source": [
    "import warnings; warnings.simplefilter('ignore')"
   ]
  },
  {
   "cell_type": "code",
   "execution_count": 341,
   "metadata": {},
   "outputs": [],
   "source": [
    "data = pd.read_excel('LEE_JAEMA.xlsx')"
   ]
  },
  {
   "cell_type": "code",
   "execution_count": 342,
   "metadata": {},
   "outputs": [],
   "source": [
    "df = pd.DataFrame(data)"
   ]
  },
  {
   "cell_type": "code",
   "execution_count": 343,
   "metadata": {},
   "outputs": [],
   "source": [
    "df.rename(columns={'타임스탬프':'time', \"0-1. 귀하의 성별은 어떻게되나요?\":'gender', '0-2. 귀하의 나이는 어떻게되나요?':'age',\n",
    "                  '1-1.귀하의 성격상의 장점은 무엇인가요? (자라면서성격이 바뀌었다면 바뀌기 전에 본연의 성향 중 가장 많이 해당하는 것으로 한가지만 선택하세요)':\"good\",\n",
    "                  '1-2. 귀하의 성격상의 단점은 무엇인가요? (자라면서성격이 바뀌었다면 바뀌기 전에 본연의 성향 중 가장 많이 해당하는 것으로 한가지만 선택하세요)':'bad',\n",
    "                  '2-1. 귀하의 평소 경향성은 무엇인가요? (평소 자신의 성향에 가장 많이 해당하는 것을 한 가지만 선택하세요)':'tendency','3-1. 귀하가 아래의 음식 중, 평소 섭취 후 ‘두 번 중 한 번 이상 소화불량, 설사, 복통, 변비, 불면, 가슴 두근거림, 알레르기’ 등의 이상반응이 있는 개수는?':'food1',\n",
    "                  '3-2.귀하가 아래의 음식 중, 평소 섭취 후 ‘두 번 중 한 번 이상 소화불량, 설사, 복통, 변비, 불면, 가슴 두근거림, 알레르기’ 등의 이상반응이 있는 개수는?':'food2',\n",
    "                  '4-1. 귀하는 식사시 한번에 섭취하는 음식량이 어떻게 되나요?':'pig',\n",
    "                  '5-1. 귀하는 평소 땀을 얼마나 흘리나요? (가장가깝다고 생각되는 선택지를 선택해주세요)':'sweat',\n",
    "                  '6-1. 귀하의 평소 💩상태는 어떤가요? (가장가깝다고 생각되는 선택지를 선택해주세요)':'big',\n",
    "                  '7-1. 귀하의 소변상태는 어떤가요? (가장가깝다고 생각되는 선택지를 선택해주세요)':'small',\n",
    "                  '8-1. 귀하의 전반적인 몸 상태는 어떤가요? (가장가깝다고 생각되는 선택지를 선택해주세요)':'body',\n",
    "                  '9-1. 귀하의 신체 골격은 아래의 사진 중 어디에 제일 가까운 것 같나요? (가장가깝다고 생각되는 선택지를 선택해주세요)':'bone',\n",
    "                  },inplace=True)"
   ]
  },
  {
   "cell_type": "code",
   "execution_count": 344,
   "metadata": {},
   "outputs": [],
   "source": [
    "df.drop(['time', 'gender','age','감사합니다 😆 이메일을 남겨주세요~'], axis='columns', inplace=True)"
   ]
  },
  {
   "cell_type": "code",
   "execution_count": 345,
   "metadata": {},
   "outputs": [],
   "source": [
    "df.loc[ df['good'].str.contains('이성적'), 'good' ] = '2'"
   ]
  },
  {
   "cell_type": "code",
   "execution_count": 346,
   "metadata": {},
   "outputs": [],
   "source": [
    "df.loc[ df['good'].str.contains('원만함'), 'good' ] = '1'\n",
    "df.loc[ df['good'].str.contains('이성적'), 'good' ] = '2'\n",
    "df.loc[ df['good'].str.contains('아이디어'), 'good' ] = '3'\n",
    "df.loc[ df['good'].str.contains('진취적'), 'good' ] = '4'\n",
    "\n",
    "df.loc[ df['bad'].str.contains('욕심'), 'bad' ] = '1'\n",
    "df.loc[ df['bad'].str.contains('내성적'), 'bad' ] = '2'\n",
    "df.loc[ df['bad'].str.contains('가벼움'), 'bad' ] = '3'\n",
    "df.loc[ df['bad'].str.contains('독선'), 'bad' ] = '4'\n",
    "\n",
    "df.loc[ df['tendency'].str.contains('특정한'), 'tendency' ] = '3'\n",
    "df.loc[ df['tendency'].str.contains('사회의'), 'tendency' ] = '2'\n",
    "df.loc[ df['tendency'].str.contains('재물'), 'tendency' ] = '1'\n",
    "df.loc[ df['tendency'].str.contains('예의범절이나'), 'tendency' ] = '4'\n",
    "\n",
    "df.loc[ df['food1'].str.contains('4개'), 'food1' ] = '1'\n",
    "df.loc[ df['food1'].str.contains('1~3개'), 'food1' ] = '2'\n",
    "df.loc[ df['food1'].str.contains('해당사항 없음'), 'food1' ] = '3'\n",
    "\n",
    "df['food2']=df['food2'].fillna('3')\n",
    "df.loc[ df['food2'].str.contains('1 ~ 3개'), 'food2' ] = '2'\n",
    "df.loc[ df['food2'].str.contains('해당사항 없음'), 'food2' ] = '3'\n",
    "\n",
    "df.loc[ df['pig'].str.contains('한끼에'), 'pig' ] = '1'\n",
    "df.loc[ df['pig'].str.contains('적게'), 'pig' ] = '2'\n",
    "\n",
    "df.loc[ df['sweat'].str.contains('땀을'), 'sweat' ] = '1'\n",
    "df.loc[ df['sweat'].str.contains('운동을'), 'sweat' ] = '2'\n",
    "df.loc[ df['sweat'].str.contains('더위를'), 'sweat' ] = '3'\n",
    "\n",
    "df['big']=df['big'].fillna('2')\n",
    "df.loc[ df['big'].str.contains('설사가'), 'big' ] = '1'\n",
    "df.loc[ df['big'].str.contains('굵다'), 'big' ] = '2'\n",
    "df.loc[ df['big'].str.contains('변비가'), 'big' ] = '3'\n",
    "\n",
    "\n",
    "df.loc[ df['small'].str.contains('자신이'), 'small' ] = '1'\n",
    "df.loc[ df['small'].str.contains('않다'), 'small' ] = '2'\n",
    "\n",
    "df.loc[ df['body'].str.contains('차고'), 'body' ] = '1'\n",
    "df.loc[ df['body'].str.contains('더위를'), 'body' ] = '2'\n",
    "\n"
   ]
  },
  {
   "cell_type": "markdown",
   "metadata": {},
   "source": [
    "## 2. Features에 점수 부여하기"
   ]
  },
  {
   "cell_type": "code",
   "execution_count": 347,
   "metadata": {},
   "outputs": [],
   "source": [
    "df['good'].replace('1', 13,inplace=True)\n",
    "df['good'].replace('2', 18,inplace=True)\n",
    "df['good'].replace('3', 8,inplace=True)\n",
    "df['good'].replace('4', 3,inplace=True)\n",
    "\n",
    "df['bad'].replace('1', 12,inplace=True)\n",
    "df['bad'].replace('2', 17,inplace=True)\n",
    "df['bad'].replace('3', 7,inplace=True)\n",
    "df['bad'].replace('4', 2,inplace=True)\n",
    "\n",
    "df['character']=df['good']+df['bad']"
   ]
  },
  {
   "cell_type": "code",
   "execution_count": 348,
   "metadata": {},
   "outputs": [],
   "source": [
    "df['tendency'].replace('3', 5,inplace=True)\n",
    "df['tendency'].replace('2', 15,inplace=True)\n",
    "df['tendency'].replace('1', 10,inplace=True)\n",
    "df['tendency'].replace('4', 0,inplace=True)"
   ]
  },
  {
   "cell_type": "code",
   "execution_count": 349,
   "metadata": {},
   "outputs": [],
   "source": [
    "df['food_total'] = 0\n",
    "df.loc[df['food1']=='1','food1']=50\n",
    "df.loc[df['food1']=='2', 'food1']=40\n",
    "df.loc[df['food2']=='2', 'food2']=20\n",
    "df.loc[df['food2']=='1','food2']=10\n",
    "df.loc[df['food1']=='3','food1']=25\n",
    "df.loc[df['food2']=='3','food2']=5\n",
    "df.loc[(df['food1']=='3')&(df['food2']=='3'),'food_total']=30\n",
    "df.loc[(df['food1']=='1')&(df['food2']=='1'),'food_total']=50\n",
    "\n",
    "\n",
    "df.loc[(df['food_total']==0)&((df['character']+df['tendency'])< 35)&(df['food1']>df['food2']), 'food_total']= df['food2']\n",
    "df.loc[(df['food_total']==0)&((df['character']+df['tendency'])< 35)&(df['food1']<=df['food2']), 'food_total']= df['food1']\n",
    "df.loc[(df['food_total']==0)&((df['character']+df['tendency'])>= 35)&(df['food1']>df['food2']), 'food_total']= df['food1']\n",
    "df.loc[(df['food_total']==0)&((df['character']+df['tendency'])>= 35)&(df['food1']<=df['food2']), 'food_total']= df['food2']"
   ]
  },
  {
   "cell_type": "code",
   "execution_count": 350,
   "metadata": {
    "scrolled": true
   },
   "outputs": [
    {
     "data": {
      "text/html": [
       "<div>\n",
       "<style scoped>\n",
       "    .dataframe tbody tr th:only-of-type {\n",
       "        vertical-align: middle;\n",
       "    }\n",
       "\n",
       "    .dataframe tbody tr th {\n",
       "        vertical-align: top;\n",
       "    }\n",
       "\n",
       "    .dataframe thead th {\n",
       "        text-align: right;\n",
       "    }\n",
       "</style>\n",
       "<table border=\"1\" class=\"dataframe\">\n",
       "  <thead>\n",
       "    <tr style=\"text-align: right;\">\n",
       "      <th></th>\n",
       "      <th>good</th>\n",
       "      <th>bad</th>\n",
       "      <th>tendency</th>\n",
       "      <th>food1</th>\n",
       "      <th>food2</th>\n",
       "      <th>pig</th>\n",
       "      <th>sweat</th>\n",
       "      <th>big</th>\n",
       "      <th>small</th>\n",
       "      <th>body</th>\n",
       "      <th>bone</th>\n",
       "      <th>character</th>\n",
       "      <th>food_total</th>\n",
       "    </tr>\n",
       "  </thead>\n",
       "  <tbody>\n",
       "    <tr>\n",
       "      <th>0</th>\n",
       "      <td>18</td>\n",
       "      <td>12</td>\n",
       "      <td>5</td>\n",
       "      <td>25</td>\n",
       "      <td>5</td>\n",
       "      <td>1</td>\n",
       "      <td>1</td>\n",
       "      <td>1</td>\n",
       "      <td>1</td>\n",
       "      <td>2</td>\n",
       "      <td>2</td>\n",
       "      <td>30</td>\n",
       "      <td>25</td>\n",
       "    </tr>\n",
       "    <tr>\n",
       "      <th>1</th>\n",
       "      <td>18</td>\n",
       "      <td>17</td>\n",
       "      <td>5</td>\n",
       "      <td>40</td>\n",
       "      <td>5</td>\n",
       "      <td>2</td>\n",
       "      <td>2</td>\n",
       "      <td>3</td>\n",
       "      <td>1</td>\n",
       "      <td>1</td>\n",
       "      <td>3</td>\n",
       "      <td>35</td>\n",
       "      <td>40</td>\n",
       "    </tr>\n",
       "    <tr>\n",
       "      <th>2</th>\n",
       "      <td>8</td>\n",
       "      <td>7</td>\n",
       "      <td>15</td>\n",
       "      <td>25</td>\n",
       "      <td>5</td>\n",
       "      <td>1</td>\n",
       "      <td>1</td>\n",
       "      <td>2</td>\n",
       "      <td>1</td>\n",
       "      <td>2</td>\n",
       "      <td>3</td>\n",
       "      <td>15</td>\n",
       "      <td>5</td>\n",
       "    </tr>\n",
       "    <tr>\n",
       "      <th>3</th>\n",
       "      <td>18</td>\n",
       "      <td>12</td>\n",
       "      <td>5</td>\n",
       "      <td>25</td>\n",
       "      <td>5</td>\n",
       "      <td>1</td>\n",
       "      <td>3</td>\n",
       "      <td>2</td>\n",
       "      <td>1</td>\n",
       "      <td>2</td>\n",
       "      <td>2</td>\n",
       "      <td>30</td>\n",
       "      <td>25</td>\n",
       "    </tr>\n",
       "    <tr>\n",
       "      <th>4</th>\n",
       "      <td>13</td>\n",
       "      <td>12</td>\n",
       "      <td>10</td>\n",
       "      <td>25</td>\n",
       "      <td>5</td>\n",
       "      <td>1</td>\n",
       "      <td>3</td>\n",
       "      <td>1</td>\n",
       "      <td>1</td>\n",
       "      <td>2</td>\n",
       "      <td>2</td>\n",
       "      <td>25</td>\n",
       "      <td>25</td>\n",
       "    </tr>\n",
       "  </tbody>\n",
       "</table>\n",
       "</div>"
      ],
      "text/plain": [
       "   good  bad  tendency  food1  food2 pig sweat big small body  bone  \\\n",
       "0    18   12         5     25      5   1     1   1     1    2     2   \n",
       "1    18   17         5     40      5   2     2   3     1    1     3   \n",
       "2     8    7        15     25      5   1     1   2     1    2     3   \n",
       "3    18   12         5     25      5   1     3   2     1    2     2   \n",
       "4    13   12        10     25      5   1     3   1     1    2     2   \n",
       "\n",
       "   character  food_total  \n",
       "0         30          25  \n",
       "1         35          40  \n",
       "2         15           5  \n",
       "3         30          25  \n",
       "4         25          25  "
      ]
     },
     "execution_count": 350,
     "metadata": {},
     "output_type": "execute_result"
    }
   ],
   "source": [
    "df.head()"
   ]
  },
  {
   "cell_type": "code",
   "execution_count": 351,
   "metadata": {},
   "outputs": [],
   "source": [
    "df['pig'].replace('1', 10,inplace=True)\n",
    "df['pig'].replace('2', 20,inplace=True)\n",
    "\n",
    "df['sweat'].replace('2', 30,inplace=True)\n",
    "df['sweat'].replace('1', 20,inplace=True)\n",
    "df['sweat'].replace('3', 10,inplace=True)\n",
    "\n",
    "df['big'].replace('1', 50,inplace=True)\n",
    "df['big'].replace('2', 25,inplace=True)\n",
    "df['big'].replace('3', 0,inplace=True)"
   ]
  },
  {
   "cell_type": "code",
   "execution_count": 352,
   "metadata": {},
   "outputs": [],
   "source": [
    "df1 = df[{'food_total','character','tendency','pig','sweat','big'}]"
   ]
  },
  {
   "cell_type": "code",
   "execution_count": 353,
   "metadata": {},
   "outputs": [],
   "source": [
    "df1['sum']=df1['food_total']+df1['character']+df1['tendency']+df1['pig']+df1['sweat']+df1['big']"
   ]
  },
  {
   "cell_type": "code",
   "execution_count": 354,
   "metadata": {
    "scrolled": true
   },
   "outputs": [
    {
     "data": {
      "text/html": [
       "<div>\n",
       "<style scoped>\n",
       "    .dataframe tbody tr th:only-of-type {\n",
       "        vertical-align: middle;\n",
       "    }\n",
       "\n",
       "    .dataframe tbody tr th {\n",
       "        vertical-align: top;\n",
       "    }\n",
       "\n",
       "    .dataframe thead th {\n",
       "        text-align: right;\n",
       "    }\n",
       "</style>\n",
       "<table border=\"1\" class=\"dataframe\">\n",
       "  <thead>\n",
       "    <tr style=\"text-align: right;\">\n",
       "      <th></th>\n",
       "      <th>food_total</th>\n",
       "      <th>character</th>\n",
       "      <th>big</th>\n",
       "      <th>sweat</th>\n",
       "      <th>tendency</th>\n",
       "      <th>pig</th>\n",
       "      <th>sum</th>\n",
       "    </tr>\n",
       "  </thead>\n",
       "  <tbody>\n",
       "    <tr>\n",
       "      <th>0</th>\n",
       "      <td>25</td>\n",
       "      <td>30</td>\n",
       "      <td>50</td>\n",
       "      <td>20</td>\n",
       "      <td>5</td>\n",
       "      <td>10</td>\n",
       "      <td>140</td>\n",
       "    </tr>\n",
       "    <tr>\n",
       "      <th>1</th>\n",
       "      <td>40</td>\n",
       "      <td>35</td>\n",
       "      <td>0</td>\n",
       "      <td>30</td>\n",
       "      <td>5</td>\n",
       "      <td>20</td>\n",
       "      <td>130</td>\n",
       "    </tr>\n",
       "    <tr>\n",
       "      <th>2</th>\n",
       "      <td>5</td>\n",
       "      <td>15</td>\n",
       "      <td>25</td>\n",
       "      <td>20</td>\n",
       "      <td>15</td>\n",
       "      <td>10</td>\n",
       "      <td>90</td>\n",
       "    </tr>\n",
       "    <tr>\n",
       "      <th>3</th>\n",
       "      <td>25</td>\n",
       "      <td>30</td>\n",
       "      <td>25</td>\n",
       "      <td>10</td>\n",
       "      <td>5</td>\n",
       "      <td>10</td>\n",
       "      <td>105</td>\n",
       "    </tr>\n",
       "    <tr>\n",
       "      <th>4</th>\n",
       "      <td>25</td>\n",
       "      <td>25</td>\n",
       "      <td>50</td>\n",
       "      <td>10</td>\n",
       "      <td>10</td>\n",
       "      <td>10</td>\n",
       "      <td>130</td>\n",
       "    </tr>\n",
       "  </tbody>\n",
       "</table>\n",
       "</div>"
      ],
      "text/plain": [
       "   food_total  character  big  sweat  tendency  pig  sum\n",
       "0          25         30   50     20         5   10  140\n",
       "1          40         35    0     30         5   20  130\n",
       "2           5         15   25     20        15   10   90\n",
       "3          25         30   25     10         5   10  105\n",
       "4          25         25   50     10        10   10  130"
      ]
     },
     "execution_count": 354,
     "metadata": {},
     "output_type": "execute_result"
    }
   ],
   "source": [
    "df1.head()"
   ]
  },
  {
   "cell_type": "code",
   "execution_count": 355,
   "metadata": {},
   "outputs": [],
   "source": [
    "df1.loc[df1['sum']<47.5,'result']='태양인'\n",
    "df1.loc[(df1['sum']>=47.5)&(df1['sum']<97.5),'result']='소양인'\n",
    "df1.loc[(df1['sum']>=97.5)&(df1['sum']<142.5),'result']='태음인'\n",
    "df1.loc[df1['sum']>=142.5,'result']='소음인'"
   ]
  },
  {
   "cell_type": "code",
   "execution_count": 356,
   "metadata": {},
   "outputs": [
    {
     "data": {
      "text/html": [
       "<div>\n",
       "<style scoped>\n",
       "    .dataframe tbody tr th:only-of-type {\n",
       "        vertical-align: middle;\n",
       "    }\n",
       "\n",
       "    .dataframe tbody tr th {\n",
       "        vertical-align: top;\n",
       "    }\n",
       "\n",
       "    .dataframe thead th {\n",
       "        text-align: right;\n",
       "    }\n",
       "</style>\n",
       "<table border=\"1\" class=\"dataframe\">\n",
       "  <thead>\n",
       "    <tr style=\"text-align: right;\">\n",
       "      <th></th>\n",
       "      <th>food_total</th>\n",
       "      <th>character</th>\n",
       "      <th>big</th>\n",
       "      <th>sweat</th>\n",
       "      <th>tendency</th>\n",
       "      <th>pig</th>\n",
       "      <th>sum</th>\n",
       "      <th>result</th>\n",
       "    </tr>\n",
       "  </thead>\n",
       "  <tbody>\n",
       "    <tr>\n",
       "      <th>0</th>\n",
       "      <td>25</td>\n",
       "      <td>30</td>\n",
       "      <td>50</td>\n",
       "      <td>20</td>\n",
       "      <td>5</td>\n",
       "      <td>10</td>\n",
       "      <td>140</td>\n",
       "      <td>태음인</td>\n",
       "    </tr>\n",
       "    <tr>\n",
       "      <th>1</th>\n",
       "      <td>40</td>\n",
       "      <td>35</td>\n",
       "      <td>0</td>\n",
       "      <td>30</td>\n",
       "      <td>5</td>\n",
       "      <td>20</td>\n",
       "      <td>130</td>\n",
       "      <td>태음인</td>\n",
       "    </tr>\n",
       "    <tr>\n",
       "      <th>2</th>\n",
       "      <td>5</td>\n",
       "      <td>15</td>\n",
       "      <td>25</td>\n",
       "      <td>20</td>\n",
       "      <td>15</td>\n",
       "      <td>10</td>\n",
       "      <td>90</td>\n",
       "      <td>소양인</td>\n",
       "    </tr>\n",
       "    <tr>\n",
       "      <th>3</th>\n",
       "      <td>25</td>\n",
       "      <td>30</td>\n",
       "      <td>25</td>\n",
       "      <td>10</td>\n",
       "      <td>5</td>\n",
       "      <td>10</td>\n",
       "      <td>105</td>\n",
       "      <td>태음인</td>\n",
       "    </tr>\n",
       "    <tr>\n",
       "      <th>4</th>\n",
       "      <td>25</td>\n",
       "      <td>25</td>\n",
       "      <td>50</td>\n",
       "      <td>10</td>\n",
       "      <td>10</td>\n",
       "      <td>10</td>\n",
       "      <td>130</td>\n",
       "      <td>태음인</td>\n",
       "    </tr>\n",
       "  </tbody>\n",
       "</table>\n",
       "</div>"
      ],
      "text/plain": [
       "   food_total  character  big  sweat  tendency  pig  sum result\n",
       "0          25         30   50     20         5   10  140    태음인\n",
       "1          40         35    0     30         5   20  130    태음인\n",
       "2           5         15   25     20        15   10   90    소양인\n",
       "3          25         30   25     10         5   10  105    태음인\n",
       "4          25         25   50     10        10   10  130    태음인"
      ]
     },
     "execution_count": 356,
     "metadata": {},
     "output_type": "execute_result"
    }
   ],
   "source": [
    "df1.head()"
   ]
  },
  {
   "cell_type": "markdown",
   "metadata": {},
   "source": [
    "## 3. 모델링"
   ]
  },
  {
   "cell_type": "code",
   "execution_count": 357,
   "metadata": {},
   "outputs": [],
   "source": [
    "traing_data = df1[['food_total','character','tendency','big','pig','sweat']]\n",
    "target_data = df1[['result']]"
   ]
  },
  {
   "cell_type": "code",
   "execution_count": 358,
   "metadata": {
    "scrolled": true
   },
   "outputs": [
    {
     "data": {
      "text/html": [
       "<div>\n",
       "<style scoped>\n",
       "    .dataframe tbody tr th:only-of-type {\n",
       "        vertical-align: middle;\n",
       "    }\n",
       "\n",
       "    .dataframe tbody tr th {\n",
       "        vertical-align: top;\n",
       "    }\n",
       "\n",
       "    .dataframe thead th {\n",
       "        text-align: right;\n",
       "    }\n",
       "</style>\n",
       "<table border=\"1\" class=\"dataframe\">\n",
       "  <thead>\n",
       "    <tr style=\"text-align: right;\">\n",
       "      <th></th>\n",
       "      <th>food_total</th>\n",
       "      <th>character</th>\n",
       "      <th>tendency</th>\n",
       "      <th>big</th>\n",
       "      <th>pig</th>\n",
       "      <th>sweat</th>\n",
       "    </tr>\n",
       "  </thead>\n",
       "  <tbody>\n",
       "    <tr>\n",
       "      <th>0</th>\n",
       "      <td>25</td>\n",
       "      <td>30</td>\n",
       "      <td>5</td>\n",
       "      <td>50</td>\n",
       "      <td>10</td>\n",
       "      <td>20</td>\n",
       "    </tr>\n",
       "    <tr>\n",
       "      <th>1</th>\n",
       "      <td>40</td>\n",
       "      <td>35</td>\n",
       "      <td>5</td>\n",
       "      <td>0</td>\n",
       "      <td>20</td>\n",
       "      <td>30</td>\n",
       "    </tr>\n",
       "    <tr>\n",
       "      <th>2</th>\n",
       "      <td>5</td>\n",
       "      <td>15</td>\n",
       "      <td>15</td>\n",
       "      <td>25</td>\n",
       "      <td>10</td>\n",
       "      <td>20</td>\n",
       "    </tr>\n",
       "    <tr>\n",
       "      <th>3</th>\n",
       "      <td>25</td>\n",
       "      <td>30</td>\n",
       "      <td>5</td>\n",
       "      <td>25</td>\n",
       "      <td>10</td>\n",
       "      <td>10</td>\n",
       "    </tr>\n",
       "    <tr>\n",
       "      <th>4</th>\n",
       "      <td>25</td>\n",
       "      <td>25</td>\n",
       "      <td>10</td>\n",
       "      <td>50</td>\n",
       "      <td>10</td>\n",
       "      <td>10</td>\n",
       "    </tr>\n",
       "  </tbody>\n",
       "</table>\n",
       "</div>"
      ],
      "text/plain": [
       "   food_total  character  tendency  big  pig  sweat\n",
       "0          25         30         5   50   10     20\n",
       "1          40         35         5    0   20     30\n",
       "2           5         15        15   25   10     20\n",
       "3          25         30         5   25   10     10\n",
       "4          25         25        10   50   10     10"
      ]
     },
     "execution_count": 358,
     "metadata": {},
     "output_type": "execute_result"
    }
   ],
   "source": [
    "traing_data.head()"
   ]
  },
  {
   "cell_type": "code",
   "execution_count": 359,
   "metadata": {},
   "outputs": [
    {
     "data": {
      "text/html": [
       "<div>\n",
       "<style scoped>\n",
       "    .dataframe tbody tr th:only-of-type {\n",
       "        vertical-align: middle;\n",
       "    }\n",
       "\n",
       "    .dataframe tbody tr th {\n",
       "        vertical-align: top;\n",
       "    }\n",
       "\n",
       "    .dataframe thead th {\n",
       "        text-align: right;\n",
       "    }\n",
       "</style>\n",
       "<table border=\"1\" class=\"dataframe\">\n",
       "  <thead>\n",
       "    <tr style=\"text-align: right;\">\n",
       "      <th></th>\n",
       "      <th>result</th>\n",
       "    </tr>\n",
       "  </thead>\n",
       "  <tbody>\n",
       "    <tr>\n",
       "      <th>0</th>\n",
       "      <td>태음인</td>\n",
       "    </tr>\n",
       "    <tr>\n",
       "      <th>1</th>\n",
       "      <td>태음인</td>\n",
       "    </tr>\n",
       "    <tr>\n",
       "      <th>2</th>\n",
       "      <td>소양인</td>\n",
       "    </tr>\n",
       "    <tr>\n",
       "      <th>3</th>\n",
       "      <td>태음인</td>\n",
       "    </tr>\n",
       "    <tr>\n",
       "      <th>4</th>\n",
       "      <td>태음인</td>\n",
       "    </tr>\n",
       "  </tbody>\n",
       "</table>\n",
       "</div>"
      ],
      "text/plain": [
       "  result\n",
       "0    태음인\n",
       "1    태음인\n",
       "2    소양인\n",
       "3    태음인\n",
       "4    태음인"
      ]
     },
     "execution_count": 359,
     "metadata": {},
     "output_type": "execute_result"
    }
   ],
   "source": [
    "target_data.head()"
   ]
  },
  {
   "cell_type": "code",
   "execution_count": 360,
   "metadata": {},
   "outputs": [],
   "source": [
    "from sklearn.model_selection import train_test_split"
   ]
  },
  {
   "cell_type": "code",
   "execution_count": 361,
   "metadata": {},
   "outputs": [],
   "source": [
    "X_train,X_test,y_train, y_test = train_test_split(traing_data,target_data)"
   ]
  },
  {
   "cell_type": "markdown",
   "metadata": {},
   "source": [
    "### 3-1. 랜덤포레스트"
   ]
  },
  {
   "cell_type": "code",
   "execution_count": 362,
   "metadata": {},
   "outputs": [],
   "source": [
    "from sklearn.ensemble import RandomForestClassifier"
   ]
  },
  {
   "cell_type": "code",
   "execution_count": 363,
   "metadata": {
    "scrolled": true
   },
   "outputs": [],
   "source": [
    "rf = RandomForestClassifier(criterion='entropy', n_estimators=150, random_state=0, max_depth=2)\n",
    "rf_model = rf.fit(X_train, y_train)\n",
    "y_pred_train = rf_model.predict(X_train)\n",
    "y_pred_test = rf_model.predict(X_test)"
   ]
  },
  {
   "cell_type": "code",
   "execution_count": 364,
   "metadata": {
    "scrolled": true
   },
   "outputs": [
    {
     "name": "stdout",
     "output_type": "stream",
     "text": [
      "훈련 세트 정확도: 0.79\n",
      "테스트 세트 정확도: 0.68\n"
     ]
    }
   ],
   "source": [
    "print(\"훈련 세트 정확도: {:.2f}\".format(rf_model.score(X_train, y_train)))\n",
    "print(\"테스트 세트 정확도: {:.2f}\".format(rf_model.score(X_test, y_test)))"
   ]
  },
  {
   "cell_type": "markdown",
   "metadata": {},
   "source": [
    "### 3-2. 서포트벡터머신"
   ]
  },
  {
   "cell_type": "code",
   "execution_count": 365,
   "metadata": {},
   "outputs": [],
   "source": [
    "from sklearn.svm import SVC"
   ]
  },
  {
   "cell_type": "code",
   "execution_count": 366,
   "metadata": {},
   "outputs": [],
   "source": [
    "svc = SVC(kernel='rbf', class_weight='balanced')"
   ]
  },
  {
   "cell_type": "code",
   "execution_count": 367,
   "metadata": {},
   "outputs": [],
   "source": [
    "svm = svc.fit(X_train, y_train)"
   ]
  },
  {
   "cell_type": "code",
   "execution_count": 368,
   "metadata": {
    "scrolled": true
   },
   "outputs": [
    {
     "name": "stdout",
     "output_type": "stream",
     "text": [
      "Wall time: 471 ms\n",
      "{'C': 50, 'gamma': 0.0001}\n"
     ]
    }
   ],
   "source": [
    "from sklearn.model_selection import GridSearchCV\n",
    "param_grid = {'C': [1, 5, 10, 50],\n",
    "              'gamma': [0.0001, 0.0005, 0.001, 0.005]}\n",
    "grid = GridSearchCV(svm, param_grid)\n",
    "\n",
    "%time grid.fit(X_train, y_train)\n",
    "print(grid.best_params_)"
   ]
  },
  {
   "cell_type": "markdown",
   "metadata": {},
   "source": [
    "최적 C(규제 매개변수) = 50, 최적 gamma(커널의 폭) = 0.0001"
   ]
  },
  {
   "cell_type": "code",
   "execution_count": 369,
   "metadata": {},
   "outputs": [],
   "source": [
    "model = grid.best_estimator_\n",
    "y_pred_train = model.predict(X_train)\n",
    "y_pred_test = model.predict(X_test)"
   ]
  },
  {
   "cell_type": "code",
   "execution_count": 370,
   "metadata": {},
   "outputs": [
    {
     "name": "stdout",
     "output_type": "stream",
     "text": [
      "훈련 세트 정확도: 0.92\n",
      "테스트 세트 정확도: 0.82\n"
     ]
    }
   ],
   "source": [
    "print(\"훈련 세트 정확도: {:.2f}\".format(model.score(X_train, y_train)))\n",
    "print(\"테스트 세트 정확도: {:.2f}\".format(model.score(X_test, y_test)))"
   ]
  },
  {
   "cell_type": "markdown",
   "metadata": {},
   "source": [
    "### 3-3. 로지스틱스"
   ]
  },
  {
   "cell_type": "code",
   "execution_count": 371,
   "metadata": {},
   "outputs": [],
   "source": [
    "from sklearn.linear_model import LogisticRegression\n",
    "\n",
    "log_reg = LogisticRegression()\n",
    "log_model = log_reg.fit(X_train, y_train)\n",
    "y_pred_train = log_model.predict(X_train)\n",
    "y_pred_test = log_model.predict(X_test)"
   ]
  },
  {
   "cell_type": "code",
   "execution_count": 372,
   "metadata": {},
   "outputs": [
    {
     "name": "stdout",
     "output_type": "stream",
     "text": [
      "훈련 세트 정확도: 0.79\n",
      "테스트 세트 정확도: 0.73\n"
     ]
    }
   ],
   "source": [
    "print(\"훈련 세트 정확도: {:.2f}\".format(log_model.score(X_train, y_train)))\n",
    "print(\"테스트 세트 정확도: {:.2f}\".format(log_model.score(X_test, y_test)))"
   ]
  },
  {
   "cell_type": "markdown",
   "metadata": {},
   "source": [
    "## 4. 결론"
   ]
  },
  {
   "cell_type": "markdown",
   "metadata": {},
   "source": [
    "### 서포트벡터 머신이 테스트 세트 정확도 0.82으로 가장 높음."
   ]
  },
  {
   "cell_type": "code",
   "execution_count": 373,
   "metadata": {},
   "outputs": [],
   "source": [
    "y_pred = model.predict(traing_data)"
   ]
  },
  {
   "cell_type": "code",
   "execution_count": 374,
   "metadata": {},
   "outputs": [
    {
     "data": {
      "text/plain": [
       "array(['소음인', '태음인', '소양인', '태음인', '태음인', '태음인', '태음인', '태음인', '태음인',\n",
       "       '태음인', '소양인', '태음인', '소음인', '소양인', '태음인', '태양인', '소음인', '소양인',\n",
       "       '태음인', '소양인', '소양인', '태음인', '소양인', '소음인', '소음인', '소양인', '소양인',\n",
       "       '소양인', '소양인', '태음인', '소음인', '소양인', '태양인', '태음인', '소음인', '태음인',\n",
       "       '소음인', '태음인', '태음인', '태음인', '태음인', '태양인', '태음인', '소양인', '소음인',\n",
       "       '태음인', '소양인', '소양인', '소양인', '태음인', '태음인', '소음인', '태음인', '소음인',\n",
       "       '소음인', '태음인', '소양인', '태음인', '태음인', '태음인', '태음인', '태음인', '태음인',\n",
       "       '태음인', '태음인', '소양인', '태음인', '소양인', '소양인', '소양인', '태음인', '태음인',\n",
       "       '소음인', '태음인', '소양인', '태음인', '소음인', '소양인', '태음인', '소양인', '소양인',\n",
       "       '태음인', '태음인', '소양인', '소음인', '태음인', '소음인', '태음인'], dtype=object)"
      ]
     },
     "execution_count": 374,
     "metadata": {},
     "output_type": "execute_result"
    }
   ],
   "source": [
    "y_pred"
   ]
  }
 ],
 "metadata": {
  "kernelspec": {
   "display_name": "Python 3",
   "language": "python",
   "name": "python3"
  },
  "language_info": {
   "codemirror_mode": {
    "name": "ipython",
    "version": 3
   },
   "file_extension": ".py",
   "mimetype": "text/x-python",
   "name": "python",
   "nbconvert_exporter": "python",
   "pygments_lexer": "ipython3",
   "version": "3.7.1"
  }
 },
 "nbformat": 4,
 "nbformat_minor": 2
}
